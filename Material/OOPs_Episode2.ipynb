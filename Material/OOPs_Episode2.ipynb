{
 "cells": [
  {
   "cell_type": "markdown",
   "metadata": {},
   "source": [
    "## Python is a dynamically typed language"
   ]
  },
  {
   "cell_type": "code",
   "execution_count": 2,
   "metadata": {},
   "outputs": [],
   "source": [
    "def my_function(a,b):\n",
    "    return a + b"
   ]
  },
  {
   "cell_type": "code",
   "execution_count": 3,
   "metadata": {},
   "outputs": [
    {
     "name": "stdout",
     "output_type": "stream",
     "text": [
      "7.3\n",
      "helloworld\n"
     ]
    }
   ],
   "source": [
    "number=my_function(9,11)\n",
    "string=my_function(\"world\",\"trade\")\n",
    "\n",
    "print(number)\n",
    "print(string)"
   ]
  },
  {
   "cell_type": "markdown",
   "metadata": {},
   "source": [
    "#### Known as duck typing\n",
    "\n",
    "If it walks like a duck and it quacks like a duck, then it must be a duck.  "
   ]
  },
  {
   "cell_type": "code",
   "execution_count": 4,
   "metadata": {},
   "outputs": [],
   "source": [
    "class Duck:\n",
    "    def walk(self):\n",
    "        pass\n",
    "    def quack(self):\n",
    "        pass"
   ]
  },
  {
   "cell_type": "markdown",
   "metadata": {},
   "source": [
    "Then we can make an instance of this class and make it walk and quack:"
   ]
  },
  {
   "cell_type": "code",
   "execution_count": 5,
   "metadata": {},
   "outputs": [],
   "source": [
    "duck=Duck()\n",
    "duck.walk()\n",
    "duck.quack()"
   ]
  },
  {
   "cell_type": "code",
   "execution_count": 6,
   "metadata": {},
   "outputs": [],
   "source": [
    "class Donkey:\n",
    "    def walk(self):\n",
    "        pass"
   ]
  },
  {
   "cell_type": "code",
   "execution_count": 7,
   "metadata": {},
   "outputs": [
    {
     "ename": "AttributeError",
     "evalue": "'Donkey' object has no attribute 'quack'",
     "output_type": "error",
     "traceback": [
      "\u001b[0;31m---------------------------------------------------------------------------\u001b[0m",
      "\u001b[0;31mAttributeError\u001b[0m                            Traceback (most recent call last)",
      "\u001b[1;32m/Users/madas/Documents/projects/Software_engineering/state_design_pattern/protocol.ipynb Cell 9\u001b[0m line \u001b[0;36m3\n\u001b[1;32m      <a href='vscode-notebook-cell:/Users/madas/Documents/projects/Software_engineering/state_design_pattern/protocol.ipynb#X14sZmlsZQ%3D%3D?line=0'>1</a>\u001b[0m duck\u001b[39m=\u001b[39mDonkey()\n\u001b[1;32m      <a href='vscode-notebook-cell:/Users/madas/Documents/projects/Software_engineering/state_design_pattern/protocol.ipynb#X14sZmlsZQ%3D%3D?line=1'>2</a>\u001b[0m duck\u001b[39m.\u001b[39mwalk()\n\u001b[0;32m----> <a href='vscode-notebook-cell:/Users/madas/Documents/projects/Software_engineering/state_design_pattern/protocol.ipynb#X14sZmlsZQ%3D%3D?line=2'>3</a>\u001b[0m duck\u001b[39m.\u001b[39;49mquack()\n",
      "\u001b[0;31mAttributeError\u001b[0m: 'Donkey' object has no attribute 'quack'"
     ]
    }
   ],
   "source": [
    "duck=Donkey()\n",
    "duck.walk()\n",
    "duck.quack()"
   ]
  },
  {
   "cell_type": "code",
   "execution_count": 9,
   "metadata": {},
   "outputs": [],
   "source": [
    "class ImposterDonkey:\n",
    "    def walk(self):\n",
    "        pass\n",
    "    def quack(self):\n",
    "        pass\n",
    "\n",
    "duck=ImposterDonkey()\n",
    "duck.walk()\n",
    "duck.quack()"
   ]
  },
  {
   "cell_type": "markdown",
   "metadata": {},
   "source": [
    "Since it is dynamically typed which is great lots of flexibility, but no type checking. The point is we can assign any object to any other object."
   ]
  },
  {
   "cell_type": "code",
   "execution_count": 1,
   "metadata": {},
   "outputs": [
    {
     "name": "stdout",
     "output_type": "stream",
     "text": [
      "i am full\n"
     ]
    }
   ],
   "source": [
    "class Geese:\n",
    "    def eat_grass(self):\n",
    "        pass\n",
    "    def can_fly(self):\n",
    "        pass\n",
    "\n",
    "def feed_the_geese(geese: Geese):\n",
    "    geese.eat_grass()\n",
    "    print(\"i am full\")\n",
    "\n",
    "geese=Geese()\n",
    "feed_the_geese(geese)"
   ]
  },
  {
   "cell_type": "code",
   "execution_count": 12,
   "metadata": {},
   "outputs": [
    {
     "ename": "AttributeError",
     "evalue": "'Panda' object has no attribute 'eat_grass'",
     "output_type": "error",
     "traceback": [
      "\u001b[0;31m---------------------------------------------------------------------------\u001b[0m",
      "\u001b[0;31mAttributeError\u001b[0m                            Traceback (most recent call last)",
      "\u001b[1;32m/Users/madas/Documents/projects/Software_engineering/state_design_pattern/protocol.ipynb Cell 13\u001b[0m line \u001b[0;36m8\n\u001b[1;32m      <a href='vscode-notebook-cell:/Users/madas/Documents/projects/Software_engineering/state_design_pattern/protocol.ipynb#X21sZmlsZQ%3D%3D?line=4'>5</a>\u001b[0m         \u001b[39mpass\u001b[39;00m\n\u001b[1;32m      <a href='vscode-notebook-cell:/Users/madas/Documents/projects/Software_engineering/state_design_pattern/protocol.ipynb#X21sZmlsZQ%3D%3D?line=6'>7</a>\u001b[0m panda\u001b[39m=\u001b[39mPanda()\n\u001b[0;32m----> <a href='vscode-notebook-cell:/Users/madas/Documents/projects/Software_engineering/state_design_pattern/protocol.ipynb#X21sZmlsZQ%3D%3D?line=7'>8</a>\u001b[0m feed_the_geese(panda)\n",
      "\u001b[1;32m/Users/madas/Documents/projects/Software_engineering/state_design_pattern/protocol.ipynb Cell 13\u001b[0m line \u001b[0;36m8\n\u001b[1;32m      <a href='vscode-notebook-cell:/Users/madas/Documents/projects/Software_engineering/state_design_pattern/protocol.ipynb#X21sZmlsZQ%3D%3D?line=6'>7</a>\u001b[0m \u001b[39mdef\u001b[39;00m \u001b[39mfeed_the_geese\u001b[39m(geese: Geese):\n\u001b[0;32m----> <a href='vscode-notebook-cell:/Users/madas/Documents/projects/Software_engineering/state_design_pattern/protocol.ipynb#X21sZmlsZQ%3D%3D?line=7'>8</a>\u001b[0m     geese\u001b[39m.\u001b[39;49meat_grass()\n",
      "\u001b[0;31mAttributeError\u001b[0m: 'Panda' object has no attribute 'eat_grass'"
     ]
    }
   ],
   "source": [
    "class Panda:\n",
    "    def eat_bamboo(self):\n",
    "        pass\n",
    "    def climb_tree(self):\n",
    "        pass\n",
    "\n",
    "panda=Panda()\n",
    "feed_the_geese(panda)"
   ]
  },
  {
   "cell_type": "markdown",
   "metadata": {},
   "source": [
    "The above error is not verbose enough. The error should be something like expected geese but the instance is of type panda. "
   ]
  },
  {
   "cell_type": "markdown",
   "metadata": {},
   "source": [
    "### Abstract base classes (ABCs)\n",
    "\n",
    "These classes are created with only one purpose, that is some other class will inherit it. This type of class cannot be instantiated."
   ]
  },
  {
   "cell_type": "code",
   "execution_count": 14,
   "metadata": {},
   "outputs": [
    {
     "name": "stdout",
     "output_type": "stream",
     "text": [
      "Data:  my name is...my name is\n"
     ]
    }
   ],
   "source": [
    "from abc import ABC , abstractmethod\n",
    "import os\n",
    "\n",
    "class PersistenceManager(ABC):\n",
    "\n",
    "    @abstractmethod\n",
    "    def save(self,data):\n",
    "        pass\n",
    "\n",
    "    @abstractmethod\n",
    "    def load(self):\n",
    "        pass\n",
    "\n",
    "class FilePersistenceManager(PersistenceManager):\n",
    "    def __init__(self,filename):\n",
    "        self.filename=filename\n",
    "\n",
    "    def save(self,data):\n",
    "        with open(self.filename,\"w\") as file:\n",
    "            file.write(data)\n",
    "\n",
    "    def load(self):\n",
    "        with open(self.filename,\"r\") as file:\n",
    "            return file.read()\n",
    "        \n",
    "    def rename(self,new_file_name):\n",
    "        os.rename(self.filename,new_file_name)\n",
    "\n",
    "class DatabasePersistenceManager(PersistenceManager):\n",
    "    def __init__(self,database_url):\n",
    "        self.database_url=database_url\n",
    "        # write code to connect to the database\n",
    "\n",
    "    def save(self,data):\n",
    "        # e.g insert into ...\n",
    "        pass\n",
    "    \n",
    "    def load(self):\n",
    "        #Execute database query, select *...\n",
    "        pass\n",
    "\n",
    "\n",
    "def  main():\n",
    "    data=\"my name is...my name is\"\n",
    "\n",
    "    persistence_manager= FilePersistenceManager(\"my_data.txt\")\n",
    "    persistence_manager.save(data)\n",
    "\n",
    "    loaded_data=persistence_manager.load()\n",
    "    print(\"Data: \", loaded_data)\n",
    "\n",
    "    persistence_manager.rename(\"our_data.txt\")\n",
    "\n",
    "if __name__==\"__main__\":\n",
    "    main()"
   ]
  },
  {
   "cell_type": "markdown",
   "metadata": {},
   "source": [
    "Usually all the abc are in a different class and imported as necessary. If you think there is some common functionality among few of the functions that commonality\n",
    "can be written as ABCs \n",
    "Benefits of using ABCs:\n",
    "\n",
    "* Enforce common interfaces: Ensure that all subclasses implement specific methods, promoting code consistency and reliability.\n",
    "* Code reusability: Define common functionality in the ABC and reuse it in subclasses.\n",
    "* Polymorphism: Treat objects of different subclasses uniformly based on the shared interface defined in the ABC.\n",
    "* Design clarity: Explicitly define the expected behavior of subclasses, improving code readability and maintainability.\n",
    "\n",
    "Common use cases:\n",
    "\n",
    "* Creating interfaces: Define contracts that subclasses must adhere to.\n",
    "* Enforcing design patterns: Ensure adherence to specific design patterns, like the factory pattern or strategy pattern.\n",
    "* Defining type hierarchies: Create a structured hierarchy of related classes.\n",
    "* Facilitating polymorphism: Allow for flexible code that can work with different object types based on a shared interface.\n",
    "\n"
   ]
  },
  {
   "cell_type": "markdown",
   "metadata": {},
   "source": [
    "## Protocol class\n",
    "\n",
    "* provide concrete implementation without inheriting from a base class\n",
    "* Protocol classes still guide the structure of classes that conform to them, promoting consistency and readability.\n",
    "* type checking, hint from IDE (added benifit)\n",
    "\n"
   ]
  },
  {
   "cell_type": "code",
   "execution_count": 16,
   "metadata": {},
   "outputs": [
    {
     "name": "stdout",
     "output_type": "stream",
     "text": [
      "Data:  guess who's back.. back again\n"
     ]
    }
   ],
   "source": [
    "from typing import Protocol\n",
    "import os\n",
    "\n",
    "class PersistenceManager(Protocol):\n",
    "    def save(self, data:str)->None:\n",
    "        #save the data\n",
    "        ...\n",
    "    def load(self)->str:\n",
    "        #load the data\n",
    "        ...\n",
    "\n",
    "class FilePersistenceManager:\n",
    "    def __init__(self,filename:str) -> None:\n",
    "        self.filename = filename\n",
    "\n",
    "    def save(self,data:str) -> None:\n",
    "        with open(self.filename,\"w\") as file:\n",
    "            file.write(data)\n",
    "\n",
    "    def load(self)->str:\n",
    "        with open(self.filename,\"r\") as file:\n",
    "            return file.read()\n",
    "    \n",
    "    def rename(self,new_file_name):\n",
    "        os.rename(self.filename,new_file_name)\n",
    "        \n",
    "class DatabasePersistenceManager:\n",
    "    def __init__(self,database_url:str) -> None:\n",
    "        self.database_url= database_url\n",
    "\n",
    "    def save(self, data: str) -> None:\n",
    "        # database query to save data\n",
    "        pass\n",
    "\n",
    "    def load(self)->str:\n",
    "        # database query to load data\n",
    "        pass\n",
    "\n",
    "def main():\n",
    "    data=\"guess who's back.. back again\"\n",
    "    \n",
    "    # The line below ensures that the class (in this case FilePersistenceManager) follows the protocol (in this case PersistenceManager)\n",
    "    persistence_manager : PersistenceManager = FilePersistenceManager(\"my_data_1.txt\") #<-- Magic\n",
    "    persistence_manager.save(data)\n",
    "\n",
    "    loaded_data=persistence_manager.load()\n",
    "    print(\"Data: \",loaded_data)\n",
    "\n",
    "    persistence_manager.rename(\"our_data_1.txt\")\n",
    "\n",
    "if __name__==\"__main__\":\n",
    "    main()"
   ]
  },
  {
   "cell_type": "markdown",
   "metadata": {},
   "source": [
    "The above code can be write in a modular way where each state is in different files. Import the module depending on the runtime need. These are all design decisions.\n",
    "There is no way to tell whether a design is good or bad (not saying writing all the code in one file is a good design). "
   ]
  },
  {
   "cell_type": "code",
   "execution_count": null,
   "metadata": {},
   "outputs": [],
   "source": []
  }
 ],
 "metadata": {
  "kernelspec": {
   "display_name": "Python 3",
   "language": "python",
   "name": "python3"
  },
  "language_info": {
   "codemirror_mode": {
    "name": "ipython",
    "version": 3
   },
   "file_extension": ".py",
   "mimetype": "text/x-python",
   "name": "python",
   "nbconvert_exporter": "python",
   "pygments_lexer": "ipython3",
   "version": "3.9.6"
  }
 },
 "nbformat": 4,
 "nbformat_minor": 2
}
