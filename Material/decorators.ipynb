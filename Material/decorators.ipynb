{
 "cells": [
  {
   "cell_type": "code",
   "execution_count": 11,
   "metadata": {},
   "outputs": [
    {
     "name": "stdout",
     "output_type": "stream",
     "text": [
      "Product(name='pant', price=30.12, quantity=13)\n",
      "The Most expensive product is shoe\n",
      "updated quantity is 12\n"
     ]
    }
   ],
   "source": [
    "class Product:\n",
    "    def __init__(self, name: str, price: float, quantity: int):\n",
    "        self.name=name\n",
    "        self.price=price\n",
    "        self.quantity=quantity\n",
    "\n",
    "    def __repr__(self) -> str:\n",
    "        return f\"Product(name='{self.name}', price={self.price:.2f}, quantity={self.quantity})\"\n",
    "    \n",
    "    def __eq__(self, value: object) -> bool:\n",
    "        if isinstance(value, Product):\n",
    "            return (self.name,self.price,self.quantity) == (value.name, value.price,value.quantity)\n",
    "        return NotImplemented\n",
    "    \n",
    "    def __hash__(self) -> int:\n",
    "        return hash((self.name,self.price,self.quantity))\n",
    "    \n",
    "\n",
    "def main():\n",
    "    products=[\n",
    "        Product(\"shirt\",12.99,10),\n",
    "        Product(\"pant\", 30.123,13),\n",
    "        Product(\"tie\",8.45,13)\n",
    "    ]\n",
    "    products.append(Product(\"shoe\",40.34,10))\n",
    "    #1\n",
    "    #print(products[1].name)\n",
    "    print(products[1])\n",
    "\n",
    "    expensive_product=max(products, key=lambda p:p.price)\n",
    "    print(f\"The Most expensive product is {expensive_product.name}\")\n",
    "\n",
    "    #3\n",
    "    products[0].quantity+=2\n",
    "    print(f\"updated quantity is {products[0].quantity}\")\n",
    "    \n",
    "if __name__==\"__main__\":\n",
    "    main()"
   ]
  },
  {
   "cell_type": "code",
   "execution_count": 8,
   "metadata": {},
   "outputs": [
    {
     "name": "stdout",
     "output_type": "stream",
     "text": [
      "Product(name='pant', price=30.123, quantity=13)\n",
      "The Most expensive product is shoe\n",
      "updated quantity is 12\n"
     ]
    }
   ],
   "source": [
    "from dataclasses import dataclass\n",
    "\n",
    "@dataclass\n",
    "class Product:\n",
    "    name:str\n",
    "    price: float\n",
    "    quantity : int\n",
    "\n",
    "def main():\n",
    "    products=[\n",
    "        Product(\"shirt\",12.99,10),\n",
    "        Product(\"pant\", 30.123,13),\n",
    "        Product(\"tie\",8.45,13)\n",
    "    ]\n",
    "    products.append(Product(\"shoe\",40.34,10))\n",
    "    #1\n",
    "    print(products[1])\n",
    "\n",
    "    expensive_product=max(products, key=lambda p:p.price)\n",
    "    print(f\"The Most expensive product is {expensive_product.name}\")\n",
    "\n",
    "    #3\n",
    "    products[0].quantity+=2\n",
    "    print(f\"updated quantity is {products[0].quantity}\")\n",
    "    \n",
    "if __name__==\"__main__\":\n",
    "    main()"
   ]
  },
  {
   "cell_type": "code",
   "execution_count": null,
   "metadata": {},
   "outputs": [
    {
     "name": "stdout",
     "output_type": "stream",
     "text": [
      "Book title (using methods): ('The Lord of the Rings', 'Tolkien')\n",
      "Book title after change (using methods): ('The Fellowship of the Ring', 'Tolkien')\n"
     ]
    }
   ],
   "source": [
    "class Book:\n",
    "    def __init__(self, title, author):\n",
    "        self._title = title\n",
    "        self._author = author\n",
    "\n",
    "    def get_title(self):\n",
    "        return self._title,self._author\n",
    "\n",
    "    def set_title(self, new_title, author):\n",
    "        self._title = new_title\n",
    "        self._author = author\n",
    "\n",
    "def main():\n",
    "    book = Book(\"The Lord of the Rings\", \"Tolkien\")\n",
    "\n",
    "    print(\"Book title (using methods):\", book.get_title())\n",
    "\n",
    "    book.set_title(\"The Fellowship of the Ring\",\"Tolkien\")\n",
    "    print(\"Book title after change (using methods):\", book.get_title())\n",
    "\n",
    "if __name__ == \"__main__\":\n",
    "    main()"
   ]
  },
  {
   "cell_type": "code",
   "execution_count": 2,
   "metadata": {},
   "outputs": [
    {
     "name": "stdout",
     "output_type": "stream",
     "text": [
      "Book title (using properties): ('The Lord of the Rings', 'Tolkien')\n",
      "Book title after change (using properties): ('The Fellowship of the Ring', 'No input')\n",
      "Book title after change: ('The Fellowship of the ring', 'tolkien')\n"
     ]
    }
   ],
   "source": [
    "from collections.abc import Iterable\n",
    "class Book:\n",
    "    def __init__(self, title, author):\n",
    "        self._title = title\n",
    "        self._author = author\n",
    "\n",
    "    @property\n",
    "    def title(self):\n",
    "        return self._title, self._author\n",
    "\n",
    "    @title.setter\n",
    "    def title(self, new_title):\n",
    "        if not isinstance(new_title, str):\n",
    "            val1 , val2 = new_title\n",
    "        else: \n",
    "            val1=new_title\n",
    "            val2=\"No input\"\n",
    "        self._title = val1\n",
    "        self._author = val2\n",
    "\n",
    "\n",
    "def main():\n",
    "    book = Book(\"The Lord of the Rings\", \"Tolkien\")\n",
    "\n",
    "    print(\"Book title (using properties):\", book.title)\n",
    "\n",
    "    book.title = \"The Fellowship of the Ring\"\n",
    "    print(\"Book title after change (using properties):\", book.title)\n",
    "\n",
    "    book.title = [\"The Fellowship of the ring\" , \"tolkien\"]\n",
    "    print(\"Book title after change:\", book.title)\n",
    "\n",
    "if __name__ == \"__main__\":\n",
    "    main()"
   ]
  },
  {
   "cell_type": "code",
   "execution_count": null,
   "metadata": {},
   "outputs": [],
   "source": []
  }
 ],
 "metadata": {
  "kernelspec": {
   "display_name": "Python 3",
   "language": "python",
   "name": "python3"
  },
  "language_info": {
   "codemirror_mode": {
    "name": "ipython",
    "version": 3
   },
   "file_extension": ".py",
   "mimetype": "text/x-python",
   "name": "python",
   "nbconvert_exporter": "python",
   "pygments_lexer": "ipython3",
   "version": "3.9.6"
  }
 },
 "nbformat": 4,
 "nbformat_minor": 2
}
