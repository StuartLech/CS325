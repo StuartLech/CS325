{
 "cells": [
  {
   "cell_type": "code",
   "execution_count": 2,
   "metadata": {},
   "outputs": [
    {
     "name": "stdout",
     "output_type": "stream",
     "text": [
      "Woof!\n",
      "Meow!\n",
      "Woof!\n"
     ]
    }
   ],
   "source": [
    "class Animal:\n",
    "    def __init__(self, name):\n",
    "        self.name = name\n",
    "\n",
    "    def make_sound(self):\n",
    "        print(\"Generic animal sound\")\n",
    "\n",
    "class Dog(Animal):\n",
    "    def __init__(self, name, breed):\n",
    "        super().__init__(name)\n",
    "        self.breed = breed\n",
    "\n",
    "    def make_sound(self):\n",
    "        print(\"Woof!\")\n",
    "\n",
    "class Cat(Animal):\n",
    "    def __init__(self, name, fur_color):\n",
    "        super().__init__(name)\n",
    "        self.fur_color = fur_color\n",
    "\n",
    "    def make_sound(self):\n",
    "        print(\"Meow!\")\n",
    "\n",
    "class Person:\n",
    "    def __init__(self, name):\n",
    "        self.name = name\n",
    "        self.pets = []  # Multiple pets\n",
    "\n",
    "    def add_pet(self, pet):\n",
    "        self.pets.append(pet)\n",
    "\n",
    "    def play_with_pets(self):\n",
    "        for pet in self.pets:\n",
    "            pet.make_sound()\n",
    "\n",
    "\n",
    "person1 = Person(\"Alice\")\n",
    "person1.add_pet(Dog(\"Buddy\", \"Labrador\"))\n",
    "person1.add_pet(Cat(\"Luna\", \"Black\"))\n",
    "\n",
    "person2 = Person(\"Bob\")\n",
    "person2.add_pet(Dog(\"Rex\", \"Golden Retriever\"))\n",
    "\n",
    "\n",
    "person1.play_with_pets()  \n",
    "person2.play_with_pets()  \n"
   ]
  },
  {
   "cell_type": "code",
   "execution_count": null,
   "metadata": {},
   "outputs": [],
   "source": []
  }
 ],
 "metadata": {
  "kernelspec": {
   "display_name": "Python 3",
   "language": "python",
   "name": "python3"
  },
  "language_info": {
   "codemirror_mode": {
    "name": "ipython",
    "version": 3
   },
   "file_extension": ".py",
   "mimetype": "text/x-python",
   "name": "python",
   "nbconvert_exporter": "python",
   "pygments_lexer": "ipython3",
   "version": "3.9.6"
  }
 },
 "nbformat": 4,
 "nbformat_minor": 2
}
